{
 "cells": [
  {
   "cell_type": "code",
   "execution_count": 22,
   "metadata": {},
   "outputs": [
    {
     "data": {
      "text/plain": [
       "(45222, 37)"
      ]
     },
     "execution_count": 22,
     "metadata": {},
     "output_type": "execute_result"
    }
   ],
   "source": [
    "import pandas as pd\n",
    "\n",
    "\n",
    "df = pd.read_csv('datasets/adult/adult-cleaned.csv')\n",
    "\n",
    "Y = df['target']\n",
    "B = df['capitol_gain']\n",
    "X = df.drop(['target', 'capitol_gain'], axis=1)\n",
    "X.shape"
   ]
  },
  {
   "cell_type": "code",
   "execution_count": 2,
   "metadata": {},
   "outputs": [
    {
     "name": "stdout",
     "output_type": "stream",
     "text": [
      "(11208, 37) (11208,) (11208,)\n",
      "(34014, 37) (34014,) (34014,)\n"
     ]
    }
   ],
   "source": [
    "Y_pos = Y[Y == 1]\n",
    "Y_neg = Y[Y != 1]\n",
    "\n",
    "X_pos = X.loc[Y_pos.index]\n",
    "X_neg = X.loc[Y_neg.index]\n",
    "\n",
    "B_pos = B.loc[Y_pos.index]\n",
    "B_neg = B.loc[Y_neg.index]\n",
    "\n",
    "print(X_pos.shape, Y_pos.shape, B_pos.shape)\n",
    "print(X_neg.shape, Y_neg.shape, B_neg.shape)"
   ]
  },
  {
   "cell_type": "code",
   "execution_count": 6,
   "metadata": {},
   "outputs": [
    {
     "name": "stdout",
     "output_type": "stream",
     "text": [
      "(9062,) (2146,)\n",
      "(32599,) (1415,)\n"
     ]
    }
   ],
   "source": [
    "B_pos_test = B_pos[(B_pos == 0) | (B_pos == 99999)]\n",
    "B_neg_test = B_neg[(B_neg == 0) | (B_neg == 99999)]\n",
    "B_pos_train = B_pos[(B_pos != 0) & (B_pos != 99999)]\n",
    "B_neg_train = B_neg[(B_neg != 0) & (B_neg != 99999)]\n",
    "\n",
    "print(B_pos_test.shape, B_pos_train.shape)\n",
    "print(B_neg_test.shape, B_neg_train.shape)"
   ]
  },
  {
   "cell_type": "code",
   "execution_count": 7,
   "metadata": {},
   "outputs": [
    {
     "name": "stdout",
     "output_type": "stream",
     "text": [
      "(9062, 37) (9062,) (9062,)\n",
      "(32599, 37) (32599,) (32599,)\n",
      "(2146, 37) (2146,) (2146,)\n",
      "(1415, 37) (1415,) (1415,)\n"
     ]
    }
   ],
   "source": [
    "X_pos_test = X_pos.loc[B_pos_test.index]\n",
    "X_neg_test = X_neg.loc[B_neg_test.index]\n",
    "X_pos_train = X_pos.loc[B_pos_train.index]\n",
    "X_neg_train = X_neg.loc[B_neg_train.index]\n",
    "Y_pos_test = Y_pos.loc[B_pos_test.index]\n",
    "Y_neg_test = Y_neg.loc[B_neg_test.index]\n",
    "Y_pos_train = Y_pos.loc[B_pos_train.index]\n",
    "Y_neg_train = Y_neg.loc[B_neg_train.index]\n",
    "\n",
    "print(X_pos_test.shape, Y_pos_test.shape, B_pos_test.shape)\n",
    "print(X_neg_test.shape, Y_neg_test.shape, B_neg_test.shape)\n",
    "print(X_pos_train.shape, Y_pos_train.shape, B_pos_train.shape)\n",
    "print(X_neg_train.shape, Y_neg_train.shape, B_neg_train.shape)"
   ]
  },
  {
   "cell_type": "code",
   "execution_count": 9,
   "metadata": {},
   "outputs": [
    {
     "data": {
      "text/plain": [
       "<AxesSubplot: ylabel='Frequency'>"
      ]
     },
     "execution_count": 9,
     "metadata": {},
     "output_type": "execute_result"
    },
    {
     "data": {
      "image/png": "[encoded data removed]",
      "text/plain": [
       "<Figure size 640x480 with 1 Axes>"
      ]
     },
     "metadata": {},
     "output_type": "display_data"
    }
   ],
   "source": [
    "B_pos_train.plot.hist(bins=100, alpha=0.5, density=True, color='g')\n",
    "B_neg_train.plot.hist(bins=100, alpha=0.5, density=True, color='r')"
   ]
  },
  {
   "cell_type": "code",
   "execution_count": 15,
   "metadata": {},
   "outputs": [],
   "source": [
    "from sklearn.ensemble import RandomForestRegressor\n",
    "from sklearn.model_selection import GridSearchCV\n",
    "\n",
    "def train_and_predict(X_train, B_train, X_test):\n",
    "    # Define the parameter grid\n",
    "    param_grid = {\n",
    "        'n_estimators': [50, 100, 200],\n",
    "        'max_depth': [None, 10, 20, 30],\n",
    "        'min_samples_split': [2, 5, 10],\n",
    "        'min_samples_leaf': [1, 2, 4]\n",
    "    }\n",
    "\n",
    "    # Initialize the RandomForestRegressor\n",
    "    rf = RandomForestRegressor(random_state=42)\n",
    "\n",
    "    # Initialize GridSearchCV\n",
    "    grid_search = GridSearchCV(estimator=rf, param_grid=param_grid, cv=5, n_jobs=-1, scoring='r2')\n",
    "\n",
    "    # Fit the grid search to the data\n",
    "    grid_search.fit(X_train, B_train)\n",
    "\n",
    "    # Get the best parameters and the best score\n",
    "    best_params = grid_search.best_params_\n",
    "    best_score = grid_search.best_score_\n",
    "\n",
    "    print(f\"Best parameters: {best_params}\")\n",
    "    print(f\"Best R^2: {best_score}\")\n",
    "\n",
    "    best_rf = RandomForestRegressor(**best_params, random_state=42)\n",
    "\n",
    "    # Fit the model on the training data\n",
    "    best_rf.fit(X_train, B_train)\n",
    "\n",
    "    # Predict on the test data\n",
    "    B_test_pred = best_rf.predict(X_test)\n",
    "    \n",
    "    return B_test_pred"
   ]
  },
  {
   "cell_type": "code",
   "execution_count": 16,
   "metadata": {},
   "outputs": [
    {
     "name": "stdout",
     "output_type": "stream",
     "text": [
      "Best parameters: {'max_depth': 10, 'min_samples_leaf': 4, 'min_samples_split': 10, 'n_estimators': 200}\n",
      "Best R^2: 0.1907989865566995\n"
     ]
    }
   ],
   "source": [
    "B_pos_pred = train_and_predict(X_pos_train, B_pos_train, X_pos_test)"
   ]
  },
  {
   "cell_type": "code",
   "execution_count": 17,
   "metadata": {},
   "outputs": [
    {
     "name": "stdout",
     "output_type": "stream",
     "text": [
      "Best parameters: {'max_depth': 10, 'min_samples_leaf': 4, 'min_samples_split': 2, 'n_estimators': 200}\n",
      "Best R^2: -0.05434574937083965\n"
     ]
    }
   ],
   "source": [
    "B_neg_pred = train_and_predict(X_neg_train, B_neg_train, X_neg_test)"
   ]
  },
  {
   "cell_type": "code",
   "execution_count": 18,
   "metadata": {},
   "outputs": [],
   "source": [
    "X_pos_test['budget'] = B_pos_pred\n",
    "X_pos_test['target'] = Y_pos_test\n",
    "X_pos_train['budget'] = B_pos_train\n",
    "X_pos_train['target'] = Y_pos_train\n",
    "\n",
    "X_neg_test['budget'] = B_neg_pred\n",
    "X_neg_test['target'] = Y_neg_test\n",
    "X_neg_train['budget'] = B_neg_train\n",
    "X_neg_train['target'] = Y_neg_train\n",
    "\n",
    "df = pd.concat([X_pos_test, X_neg_test, X_pos_train, X_neg_train])\n",
    "df.to_csv('datasets/adult/adult-imputed-budget-new.csv', index=False)"
   ]
  },
  {
   "cell_type": "code",
   "execution_count": 19,
   "metadata": {},
   "outputs": [
    {
     "data": {
      "text/plain": [
       "<AxesSubplot: ylabel='Frequency'>"
      ]
     },
     "execution_count": 19,
     "metadata": {},
     "output_type": "execute_result"
    },
    {
     "data": {
      "image/png": "[encoded data removed]",
      "text/plain": [
       "<Figure size 640x480 with 1 Axes>"
      ]
     },
     "metadata": {},
     "output_type": "display_data"
    }
   ],
   "source": [
    "df[df['target'] == 1]['budget'].plot.hist(bins=50, alpha=0.5, color='blue')\n",
    "df[df['target'] == -1]['budget'].plot.hist(bins=50, alpha=0.5, color='red')"
   ]
  },
  {
   "cell_type": "code",
   "execution_count": null,
   "metadata": {},
   "outputs": [],
   "source": [
    "from data_prep_utils import remove_examples_by_condition\n",
    "\n",
    "df = pd.read_csv('datasets/adult/adult-imputed-budget-new.csv')\n",
    "\n",
    "Y = df['target']\n",
    "B = df['budget']\n",
    "X = df.drop(['target', 'budget'], axis=1)\n",
    "X_COLS = [\"final_weight\", \"education_num\", \"capitol_loss\", \"hours_per_week\", \"age\"]\n",
    "X = X[X_COLS]\n",
    "\n",
    "X, B, Y = remove_examples_by_condition(X, B, Y,\n",
    "                                       amount_to_leave=0.25, percent=True,\n",
    "                                       Y_cond=lambda y: y == -1, seed=42)\n",
    "print(Y.value_counts())\n",
    "\n",
    "df = X\n",
    "df['target'] = Y\n",
    "df['budget'] = B\n",
    "\n",
    "df[df['target'] == 1]['budget'].plot.hist(bins=50, alpha=0.5, color='blue')\n",
    "df[df['target'] == -1]['budget'].plot.hist(bins=50, alpha=0.5, color='red')\n",
    "\n",
    "df.to_csv('datasets/adult/adult-imputed-budget-balanced-new.csv', index=False)"
   ]
  }
 ],
 "metadata": {
  "kernelspec": {
   "display_name": "Python 3",
   "language": "python",
   "name": "python3"
  },
  "language_info": {
   "codemirror_mode": {
    "name": "ipython",
    "version": 3
   },
   "file_extension": ".py",
   "mimetype": "text/x-python",
   "name": "python",
   "nbconvert_exporter": "python",
   "pygments_lexer": "ipython3",
   "version": "3.8.20"
  }
 },
 "nbformat": 4,
 "nbformat_minor": 2
}
